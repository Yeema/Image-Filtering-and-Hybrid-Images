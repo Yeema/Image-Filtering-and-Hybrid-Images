{
 "cells": [
  {
   "cell_type": "code",
   "execution_count": 11,
   "metadata": {},
   "outputs": [
    {
     "ename": "TypeError",
     "evalue": "'int' object is not iterable",
     "output_type": "error",
     "traceback": [
      "\u001b[1;31m---------------------------------------------------------------------------\u001b[0m",
      "\u001b[1;31mTypeError\u001b[0m                                 Traceback (most recent call last)",
      "\u001b[1;32m<ipython-input-11-0ecaf41732ac>\u001b[0m in \u001b[0;36m<module>\u001b[1;34m()\u001b[0m\n\u001b[0;32m     13\u001b[0m \u001b[0mimg_path\u001b[0m \u001b[1;33m=\u001b[0m \u001b[1;34mr'C:\\Users\\Irene\\Documents\\computer vision\\homework1-master\\data\\cat.bmp'\u001b[0m\u001b[1;33m\u001b[0m\u001b[0m\n\u001b[0;32m     14\u001b[0m \u001b[0mtest_image\u001b[0m \u001b[1;33m=\u001b[0m \u001b[0mmpimg\u001b[0m\u001b[1;33m.\u001b[0m\u001b[0mimread\u001b[0m\u001b[1;33m(\u001b[0m\u001b[0mimg_path\u001b[0m\u001b[1;33m)\u001b[0m\u001b[1;33m\u001b[0m\u001b[0m\n\u001b[1;32m---> 15\u001b[1;33m \u001b[0mwidth\u001b[0m\u001b[1;33m,\u001b[0m\u001b[0mheight\u001b[0m\u001b[1;33m=\u001b[0m\u001b[0mtest_image\u001b[0m\u001b[1;33m.\u001b[0m\u001b[0msize\u001b[0m\u001b[1;33m\u001b[0m\u001b[0m\n\u001b[0m\u001b[0;32m     16\u001b[0m '''\n\u001b[0;32m     17\u001b[0m \u001b[0mplt\u001b[0m\u001b[1;33m.\u001b[0m\u001b[0mimshow\u001b[0m\u001b[1;33m(\u001b[0m\u001b[0mtest_image\u001b[0m\u001b[1;33m)\u001b[0m\u001b[1;33m\u001b[0m\u001b[0m\n",
      "\u001b[1;31mTypeError\u001b[0m: 'int' object is not iterable"
     ]
    }
   ],
   "source": [
    "from gauss2D import gauss2D\n",
    "from my_imfilter import my_imfilter\n",
    "from normalize import normalize\n",
    "from scipy.misc import imresize\n",
    "import numpy as np\n",
    "import matplotlib.image as mpimg\n",
    "import matplotlib.pyplot as plt\n",
    "import os\n",
    "\n",
    "''' set up '''\n",
    "#main_path = os.path.dirname(os.path.dirname(os.path.abspath(__file__)))\n",
    "#img_path = main_path + '/data/cat.bmp'\n",
    "img_path = r'C:\\Users\\Irene\\Documents\\computer vision\\homework1-master\\data\\cat.bmp'\n",
    "test_image = mpimg.imread(img_path)\n",
    "'''\n",
    "plt.imshow(test_image)\n",
    "test_image = imresize(test_image,0.7,'bilinear')\n",
    "test_image = test_image.astype(np.single)/255\n",
    "plt.figure('Image')\n",
    "plt.imshow(test_image)\n",
    "plt.show()\n",
    "'''"
   ]
  },
  {
   "cell_type": "code",
   "execution_count": 16,
   "metadata": {},
   "outputs": [],
   "source": [
    "#test_image\n",
    "dim1 = len(test_image)\n",
    "dim2 = len(test_image[0])\n",
    "dim3 = len(test_image[0][0])"
   ]
  },
  {
   "cell_type": "code",
   "execution_count": 18,
   "metadata": {},
   "outputs": [
    {
     "name": "stdout",
     "output_type": "stream",
     "text": [
      "361 410 3\n"
     ]
    }
   ],
   "source": [
    "print(dim1\n",
    ",dim2\n",
    ",dim3)"
   ]
  },
  {
   "cell_type": "code",
   "execution_count": 19,
   "metadata": {
    "collapsed": true
   },
   "outputs": [],
   "source": [
    "x=np.zeros((10,20,30))"
   ]
  },
  {
   "cell_type": "code",
   "execution_count": 21,
   "metadata": {},
   "outputs": [
    {
     "name": "stdout",
     "output_type": "stream",
     "text": [
      "10 20 30\n"
     ]
    }
   ],
   "source": [
    "print(len(x),len(x[0]),len(x[0][0]))"
   ]
  },
  {
   "cell_type": "code",
   "execution_count": 22,
   "metadata": {},
   "outputs": [
    {
     "name": "stdout",
     "output_type": "stream",
     "text": [
      "0\n",
      "1\n",
      "2\n",
      "3\n",
      "4\n"
     ]
    }
   ],
   "source": [
    "for i in range(5):\n",
    "    print(i)"
   ]
  },
  {
   "cell_type": "code",
   "execution_count": 24,
   "metadata": {},
   "outputs": [
    {
     "data": {
      "text/plain": [
       "121"
      ]
     },
     "execution_count": 24,
     "metadata": {},
     "output_type": "execute_result"
    }
   ],
   "source": [
    "test_image[0][0][2]"
   ]
  },
  {
   "cell_type": "code",
   "execution_count": 47,
   "metadata": {},
   "outputs": [
    {
     "name": "stdout",
     "output_type": "stream",
     "text": [
      "[[0 1 2]\n",
      " [3 4 5]\n",
      " [6 7 8]]\n"
     ]
    }
   ],
   "source": [
    "x1 = np.arange(9).reshape((3, 3))\n",
    "print(x1)"
   ]
  },
  {
   "cell_type": "code",
   "execution_count": 48,
   "metadata": {},
   "outputs": [
    {
     "data": {
      "text/plain": [
       "204"
      ]
     },
     "execution_count": 48,
     "metadata": {},
     "output_type": "execute_result"
    }
   ],
   "source": [
    "sum(sum(np.multiply(x1,x1)))"
   ]
  },
  {
   "cell_type": "code",
   "execution_count": 52,
   "metadata": {},
   "outputs": [
    {
     "data": {
      "text/plain": [
       "array([[4, 5],\n",
       "       [7, 8]])"
      ]
     },
     "execution_count": 52,
     "metadata": {},
     "output_type": "execute_result"
    }
   ],
   "source": [
    "x1[1:1+2,1:1+2]"
   ]
  },
  {
   "cell_type": "code",
   "execution_count": 53,
   "metadata": {},
   "outputs": [
    {
     "data": {
      "text/plain": [
       "numpy.uint8"
      ]
     },
     "execution_count": 53,
     "metadata": {},
     "output_type": "execute_result"
    }
   ],
   "source": [
    "type(test_image[0][0][1])"
   ]
  },
  {
   "cell_type": "code",
   "execution_count": 54,
   "metadata": {
    "collapsed": true
   },
   "outputs": [],
   "source": [
    "a=np.zeros((2,3)*3, dtype=np.int)"
   ]
  },
  {
   "cell_type": "code",
   "execution_count": 55,
   "metadata": {
    "collapsed": true
   },
   "outputs": [],
   "source": [
    "a[:,:,1]=test_image[1:1+2,3:3+3,1]"
   ]
  },
  {
   "cell_type": "code",
   "execution_count": 56,
   "metadata": {},
   "outputs": [
    {
     "data": {
      "text/plain": [
       "array([[[[[[  0,   0,   0],\n",
       "           [  0,   0,   0]],\n",
       "\n",
       "          [[  0,   0,   0],\n",
       "           [  0,   0,   0]],\n",
       "\n",
       "          [[  0,   0,   0],\n",
       "           [  0,   0,   0]]],\n",
       "\n",
       "\n",
       "         [[[118, 105,  95],\n",
       "           [124, 107,  96]],\n",
       "\n",
       "          [[118, 105,  95],\n",
       "           [124, 107,  96]],\n",
       "\n",
       "          [[118, 105,  95],\n",
       "           [124, 107,  96]]]],\n",
       "\n",
       "\n",
       "\n",
       "        [[[[  0,   0,   0],\n",
       "           [  0,   0,   0]],\n",
       "\n",
       "          [[  0,   0,   0],\n",
       "           [  0,   0,   0]],\n",
       "\n",
       "          [[  0,   0,   0],\n",
       "           [  0,   0,   0]]],\n",
       "\n",
       "\n",
       "         [[[118, 105,  95],\n",
       "           [124, 107,  96]],\n",
       "\n",
       "          [[118, 105,  95],\n",
       "           [124, 107,  96]],\n",
       "\n",
       "          [[118, 105,  95],\n",
       "           [124, 107,  96]]]],\n",
       "\n",
       "\n",
       "\n",
       "        [[[[  0,   0,   0],\n",
       "           [  0,   0,   0]],\n",
       "\n",
       "          [[  0,   0,   0],\n",
       "           [  0,   0,   0]],\n",
       "\n",
       "          [[  0,   0,   0],\n",
       "           [  0,   0,   0]]],\n",
       "\n",
       "\n",
       "         [[[118, 105,  95],\n",
       "           [124, 107,  96]],\n",
       "\n",
       "          [[118, 105,  95],\n",
       "           [124, 107,  96]],\n",
       "\n",
       "          [[118, 105,  95],\n",
       "           [124, 107,  96]]]]],\n",
       "\n",
       "\n",
       "\n",
       "\n",
       "       [[[[[  0,   0,   0],\n",
       "           [  0,   0,   0]],\n",
       "\n",
       "          [[  0,   0,   0],\n",
       "           [  0,   0,   0]],\n",
       "\n",
       "          [[  0,   0,   0],\n",
       "           [  0,   0,   0]]],\n",
       "\n",
       "\n",
       "         [[[118, 105,  95],\n",
       "           [124, 107,  96]],\n",
       "\n",
       "          [[118, 105,  95],\n",
       "           [124, 107,  96]],\n",
       "\n",
       "          [[118, 105,  95],\n",
       "           [124, 107,  96]]]],\n",
       "\n",
       "\n",
       "\n",
       "        [[[[  0,   0,   0],\n",
       "           [  0,   0,   0]],\n",
       "\n",
       "          [[  0,   0,   0],\n",
       "           [  0,   0,   0]],\n",
       "\n",
       "          [[  0,   0,   0],\n",
       "           [  0,   0,   0]]],\n",
       "\n",
       "\n",
       "         [[[118, 105,  95],\n",
       "           [124, 107,  96]],\n",
       "\n",
       "          [[118, 105,  95],\n",
       "           [124, 107,  96]],\n",
       "\n",
       "          [[118, 105,  95],\n",
       "           [124, 107,  96]]]],\n",
       "\n",
       "\n",
       "\n",
       "        [[[[  0,   0,   0],\n",
       "           [  0,   0,   0]],\n",
       "\n",
       "          [[  0,   0,   0],\n",
       "           [  0,   0,   0]],\n",
       "\n",
       "          [[  0,   0,   0],\n",
       "           [  0,   0,   0]]],\n",
       "\n",
       "\n",
       "         [[[118, 105,  95],\n",
       "           [124, 107,  96]],\n",
       "\n",
       "          [[118, 105,  95],\n",
       "           [124, 107,  96]],\n",
       "\n",
       "          [[118, 105,  95],\n",
       "           [124, 107,  96]]]]]])"
      ]
     },
     "execution_count": 56,
     "metadata": {},
     "output_type": "execute_result"
    }
   ],
   "source": [
    "a"
   ]
  },
  {
   "cell_type": "code",
   "execution_count": null,
   "metadata": {
    "collapsed": true
   },
   "outputs": [],
   "source": []
  }
 ],
 "metadata": {
  "kernelspec": {
   "display_name": "Python 3",
   "language": "python",
   "name": "python3"
  },
  "language_info": {
   "codemirror_mode": {
    "name": "ipython",
    "version": 3
   },
   "file_extension": ".py",
   "mimetype": "text/x-python",
   "name": "python",
   "nbconvert_exporter": "python",
   "pygments_lexer": "ipython3",
   "version": "3.6.2"
  }
 },
 "nbformat": 4,
 "nbformat_minor": 2
}
